{
 "cells": [
  {
   "cell_type": "code",
   "execution_count": 20,
   "metadata": {},
   "outputs": [],
   "source": [
    "import matplotlib.pyplot as plt\n",
    "%matplotlib inline \n",
    "from matplotlib import style\n",
    "import sklearn as sk\n",
    "from sklearn import preprocessing, model_selection, svm\n",
    "from sklearn.linear_model import LinearRegression\n",
    "import quandl, math, datetime\n",
    "import pandas as pd\n",
    "import numpy as np\n",
    "import pickle\n",
    "\n",
    "style.use('ggplot')"
   ]
  },
  {
   "cell_type": "code",
   "execution_count": 21,
   "metadata": {},
   "outputs": [
    {
     "name": "stdout",
     "output_type": "stream",
     "text": [
      "              Open    High     Low    Close      Volume  Ex-Dividend  \\\n",
      "Date                                                                   \n",
      "2004-08-19  100.01  104.06   95.96  100.335  44659000.0          0.0   \n",
      "2004-08-20  101.01  109.08  100.50  108.310  22834300.0          0.0   \n",
      "2004-08-23  110.76  113.48  109.05  109.400  18256100.0          0.0   \n",
      "2004-08-24  111.24  111.60  103.57  104.870  15247300.0          0.0   \n",
      "2004-08-25  104.76  108.00  103.88  106.000   9188600.0          0.0   \n",
      "\n",
      "            Split Ratio  Adj. Open  Adj. High   Adj. Low  Adj. Close  \\\n",
      "Date                                                                   \n",
      "2004-08-19          1.0  50.159839  52.191109  48.128568   50.322842   \n",
      "2004-08-20          1.0  50.661387  54.708881  50.405597   54.322689   \n",
      "2004-08-23          1.0  55.551482  56.915693  54.693835   54.869377   \n",
      "2004-08-24          1.0  55.792225  55.972783  51.945350   52.597363   \n",
      "2004-08-25          1.0  52.542193  54.167209  52.100830   53.164113   \n",
      "\n",
      "            Adj. Volume  \n",
      "Date                     \n",
      "2004-08-19   44659000.0  \n",
      "2004-08-20   22834300.0  \n",
      "2004-08-23   18256100.0  \n",
      "2004-08-24   15247300.0  \n",
      "2004-08-25    9188600.0  \n"
     ]
    }
   ],
   "source": [
    "df = quandl.get('WIKI/GOOGL')\n",
    "print(df.head())"
   ]
  },
  {
   "cell_type": "code",
   "execution_count": 22,
   "metadata": {},
   "outputs": [],
   "source": [
    "df = df[['Adj. Open','Adj. High','Adj. Low','Adj. Close','Adj. Volume']]\n",
    "df['HL_PCT']=(df['Adj. High'] - df['Adj. Close'])/df['Adj. Close']*100.0\n",
    "df['PCT_change']=(df['Adj. Close'] - df['Adj. Open'])/df['Adj. Open']*100.0\n"
   ]
  },
  {
   "cell_type": "code",
   "execution_count": 23,
   "metadata": {},
   "outputs": [
    {
     "name": "stdout",
     "output_type": "stream",
     "text": [
      "            Adj. Open  Adj. High   Adj. Low  Adj. Close  Adj. Volume  \\\n",
      "Date                                                                   \n",
      "2004-08-19  50.159839  52.191109  48.128568   50.322842   44659000.0   \n",
      "2004-08-20  50.661387  54.708881  50.405597   54.322689   22834300.0   \n",
      "2004-08-23  55.551482  56.915693  54.693835   54.869377   18256100.0   \n",
      "2004-08-24  55.792225  55.972783  51.945350   52.597363   15247300.0   \n",
      "2004-08-25  52.542193  54.167209  52.100830   53.164113    9188600.0   \n",
      "\n",
      "              HL_PCT  PCT_change  \n",
      "Date                              \n",
      "2004-08-19  3.712563    0.324968  \n",
      "2004-08-20  0.710922    7.227007  \n",
      "2004-08-23  3.729433   -1.227880  \n",
      "2004-08-24  6.417469   -5.726357  \n",
      "2004-08-25  1.886792    1.183658  \n"
     ]
    }
   ],
   "source": [
    "print(df.head())"
   ]
  },
  {
   "cell_type": "code",
   "execution_count": 24,
   "metadata": {},
   "outputs": [
    {
     "name": "stdout",
     "output_type": "stream",
     "text": [
      "            Adj. Open  Adj. High   Adj. Low  Adj. Close  Adj. Volume  \\\n",
      "Date                                                                   \n",
      "2004-08-19  50.159839  52.191109  48.128568   50.322842   44659000.0   \n",
      "2004-08-20  50.661387  54.708881  50.405597   54.322689   22834300.0   \n",
      "2004-08-23  55.551482  56.915693  54.693835   54.869377   18256100.0   \n",
      "2004-08-24  55.792225  55.972783  51.945350   52.597363   15247300.0   \n",
      "2004-08-25  52.542193  54.167209  52.100830   53.164113    9188600.0   \n",
      "\n",
      "              HL_PCT  PCT_change       label  \n",
      "Date                                          \n",
      "2004-08-19  3.712563    0.324968  214.005615  \n",
      "2004-08-20  0.710922    7.227007  210.725489  \n",
      "2004-08-23  3.729433   -1.227880  208.072299  \n",
      "2004-08-24  6.417469   -5.726357  218.288837  \n",
      "2004-08-25  1.886792    1.183658  223.309335  \n"
     ]
    }
   ],
   "source": [
    "forecast_col = 'Adj. Close'\n",
    "df.fillna(-99999, inplace=True)\n",
    "\n",
    "forecast_out = int(math.ceil(0.1*len(df)))\n",
    "df['label'] = df[forecast_col].shift(-forecast_out)\n",
    "\n",
    "\n",
    "print(df.head())\n"
   ]
  },
  {
   "cell_type": "code",
   "execution_count": 25,
   "metadata": {},
   "outputs": [
    {
     "name": "stdout",
     "output_type": "stream",
     "text": [
      "3081 3081\n"
     ]
    }
   ],
   "source": [
    "X = np.array(df.drop(['label'],1))\n",
    "X = preprocessing.scale(X)\n",
    "X_lately = X[-forecast_out:]\n",
    "X = X[:-forecast_out]\n",
    "\n",
    "\n",
    "\n",
    "\n",
    "df.dropna(inplace=True)\n",
    "Y = np.array(df['label'])\n",
    "\n",
    "print(len(X),len(Y))"
   ]
  },
  {
   "cell_type": "code",
   "execution_count": 26,
   "metadata": {},
   "outputs": [
    {
     "name": "stdout",
     "output_type": "stream",
     "text": [
      "0.8795894505911135\n",
      "343\n"
     ]
    }
   ],
   "source": [
    "X_train,X_test, Y_train, Y_test = model_selection.train_test_split(X,Y,test_size=0.2)\n",
    "clf = LinearRegression(n_jobs=-1)\n",
    "clf.fit(X_train, Y_train)\n",
    "#retrain like once a month\n",
    "with open('linearegression.pickle','wb') as f:\n",
    "    pickle.dump(clf,f)\n",
    "\n",
    "pickle_in = open('linearegression.pickle','rb')\n",
    "clf = pickle.load(pickle_in)\n",
    "\n",
    "acc = clf.score(X_test,Y_test)\n",
    "\n",
    "print(acc)\n",
    "print(forecast_out)\n"
   ]
  },
  {
   "cell_type": "code",
   "execution_count": 27,
   "metadata": {},
   "outputs": [
    {
     "name": "stderr",
     "output_type": "stream",
     "text": [
      "/Users/computerscience/anaconda3/lib/python3.6/site-packages/sklearn/svm/base.py:196: FutureWarning: The default value of gamma will change from 'auto' to 'scale' in version 0.22 to account better for unscaled features. Set gamma explicitly to 'auto' or 'scale' to avoid this warning.\n",
      "  \"avoid this warning.\", FutureWarning)\n"
     ]
    },
    {
     "name": "stdout",
     "output_type": "stream",
     "text": [
      "0.8795894505911135\n",
      "343\n"
     ]
    }
   ],
   "source": [
    "# svm\n",
    "\n",
    "X_train,X_test, Y_train, Y_test = model_selection.train_test_split(X,Y,test_size=0.2)\n",
    "clf2 = svm.SVR()\n",
    "clf2.fit(X_train, Y_train)\n",
    "\n",
    "acc2 = clf2.score(X_test,Y_test)\n",
    "\n",
    "print(acc)\n",
    "print(forecast_out)"
   ]
  },
  {
   "cell_type": "code",
   "execution_count": 28,
   "metadata": {},
   "outputs": [
    {
     "name": "stdout",
     "output_type": "stream",
     "text": [
      "[ 985.78742888  930.18904433  955.18368668  991.48212999  999.90040673\n",
      "  970.02996285  992.95749975  994.57117882  987.86277469 1012.69762724\n",
      "  935.85275641  993.05281684  970.09881111  952.85639246  959.93080186\n",
      "  977.36868835  979.2815294   984.25498803 1008.65880875 1019.12054594\n",
      " 1029.88200216 1012.75209496 1029.16436296 1032.27385187 1032.92465976\n",
      " 1028.98513575 1052.23772723 1046.65553903 1048.27842028 1040.80221778\n",
      " 1024.20776513 1030.72982162 1031.04200163 1008.40979396 1010.00634416\n",
      " 1031.36323343 1039.61861705 1020.65563118 1059.1953466  1065.08353779\n",
      " 1069.10533117 1069.62492914 1069.29687118 1071.96477694 1078.7966345\n",
      " 1049.43732896 1077.99493763 1049.145868   1088.17976157 1100.57378112\n",
      " 1098.33298052 1027.28614673 1041.12727953 1049.8144163  1042.45756\n",
      " 1025.64863195 1051.63912535 1062.05292442 1056.72047504 1061.96524688\n",
      " 1078.35378457 1072.79559299 1079.61144574 1085.58486794 1077.91595672\n",
      " 1086.69597616 1086.39882937 1092.42912081 1090.12497317 1097.41942791\n",
      " 1102.4790523  1089.43827148 1090.06869563 1093.59369901 1096.23371019\n",
      " 1099.26342939 1094.34728547 1088.78684734 1098.99184907 1093.64620319\n",
      " 1114.14581397 1107.09300114 1115.01287735 1121.65937184 1126.06809095\n",
      " 1131.82418766 1125.93913693 1044.80465222 1082.19646392 1084.39221435\n",
      " 1059.76033736 1041.10284844 1065.46612493 1077.35209574 1104.69226672\n",
      " 1097.10347886 1079.9397712  1098.06959822 1067.03594115 1075.18438558\n",
      " 1086.82818909 1077.26807783 1075.93753627 1079.90664886 1083.40629656\n",
      " 1067.44241866 1096.22761815 1103.51802472 1104.69110751 1111.85554856\n",
      " 1104.68570962 1118.9634756  1147.9645728  1150.29800179 1160.91344453\n",
      " 1169.580082   1180.63136869 1185.71867914 1208.27121549 1219.09107578\n",
      " 1201.5195541  1236.94644671 1242.56728276 1223.31155915 1243.65014367\n",
      " 1222.67512882 1252.95208233 1180.68661305 1196.77049969 1219.25724062\n",
      " 1234.06236858 1244.51510479 1268.76644202 1227.50806774 1277.4056944\n",
      " 1285.30336605 1246.79266036 1271.43148897 1274.86381421 1272.72047518\n",
      " 1259.93903687 1289.12719368 1303.6033877  1157.79358772 1186.99506611\n",
      " 1227.68890968 1217.93640253 1199.78997185 1237.02272726 1234.80442909\n",
      " 1225.26341519 1247.13642935 1259.47667062 1249.14287876 1204.98852541\n",
      " 1176.54454342 1189.61684922 1182.3122174  1177.11795228 1160.69198523\n",
      " 1163.22374103 1155.27943142 1174.27746783 1201.76342367 1226.78071493\n",
      " 1228.5820297  1218.78499094 1264.67728252 1236.13134661 1218.79797681\n",
      " 1274.56138972 1272.6796815  1273.99152444 1244.18266966 1223.98517123\n",
      " 1234.92481546 1183.58172018 1195.07259769 1191.58971638 1202.10016165\n",
      " 1219.82950065 1206.46095352 1220.90813621 1227.27060316 1193.36987522\n",
      " 1202.9939987  1172.39080845 1175.48981118 1217.28641309 1212.14672298\n",
      " 1196.44437425 1173.45461263 1189.32938511 1180.51965731 1172.33756105\n",
      " 1198.7947713  1191.15448933 1190.8382263  1191.10474237 1153.1538478\n",
      " 1194.25819012 1208.33712014 1229.89484876 1190.59717043 1217.7896823\n",
      " 1214.33879695 1208.09740486 1196.27309267 1225.670483   1215.34123282\n",
      " 1206.24366761 1201.27225149 1191.92013433 1203.05511533 1191.54239128\n",
      " 1207.97486645 1198.60183372 1199.36013699 1190.25694528 1160.21812537\n",
      " 1225.23045971 1236.49982833 1231.03767984 1251.94670192 1241.78013387\n",
      " 1234.1276904  1245.51702013 1265.95348767 1258.11088946 1241.88073107\n",
      " 1278.20134463 1289.16463371 1304.20914512 1293.62990835 1297.93383483\n",
      " 1289.08656264 1303.77981782 1235.74806336 1275.73509645 1255.24463275\n",
      " 1237.18366459 1165.26998134 1294.59521115 1304.70999391 1311.42684498\n",
      " 1331.5645849  1341.47053025 1333.51877237 1359.81625724 1346.39567135\n",
      " 1355.99426822 1323.40471959 1340.83345151 1334.73520036 1319.32356052\n",
      " 1314.57199502 1340.41365758 1338.13511009 1356.95296212 1358.65118663\n",
      " 1343.3561896  1322.54556183 1286.14814252 1320.07037528 1283.6540038\n",
      " 1262.76438925 1195.89817987 1250.20313417 1312.80327343 1342.94627166\n",
      " 1349.27872255 1298.52639494 1356.24692325 1324.64020726 1350.74930652\n",
      " 1376.19438192 1391.9038294  1384.48987437 1382.3060973  1393.13984001\n",
      " 1385.79265087 1365.83809194 1354.20206021 1365.17026151 1310.96348182\n",
      " 1334.14882129 1395.75597741 1411.18528799 1423.20440906 1444.04249676\n",
      " 1429.83103059 1442.08842604 1393.69267574 1403.65448021 1472.33029946\n",
      " 1465.48800869 1474.8306764  1426.02210712 1507.15641897 1485.01556947\n",
      " 1523.8699547  1541.52841229 1494.19641623 1483.66441285 1525.86441632\n",
      " 1486.81656433 1411.69453398 1213.66592429 1190.72775027 1294.39487693\n",
      " 1150.91193558 1212.06484115 1316.97798677 1324.54194615 1311.76766371\n",
      " 1366.60792791 1353.84368141 1326.63773256 1308.02249277 1391.0854943\n",
      " 1427.66826204 1449.48914967 1390.85583375 1365.01868356 1285.68526545\n",
      " 1289.1582381  1324.84888393 1417.90937136 1362.56888014 1422.66411578\n",
      " 1428.56938812 1449.12586948 1362.86856575 1428.7004034  1421.22222911\n",
      " 1419.03333122 1372.16750694 1374.72978486 1339.10697544 1280.73670266\n",
      " 1189.13313419 1290.73222162 1154.37407269] 0.8795894505911135 343\n"
     ]
    }
   ],
   "source": [
    "forecast_set = clf.predict(X_lately)\n",
    "print(forecast_set,acc, forecast_out)"
   ]
  },
  {
   "cell_type": "code",
   "execution_count": 29,
   "metadata": {},
   "outputs": [
    {
     "name": "stdout",
     "output_type": "stream",
     "text": [
      "                     Adj. Open  Adj. High  Adj. Low  Adj. Close  Adj. Volume  \\\n",
      "Date                                                                           \n",
      "2017-10-14 17:00:00        NaN        NaN       NaN         NaN          NaN   \n",
      "2017-10-15 17:00:00        NaN        NaN       NaN         NaN          NaN   \n",
      "2017-10-16 17:00:00        NaN        NaN       NaN         NaN          NaN   \n",
      "2017-10-17 17:00:00        NaN        NaN       NaN         NaN          NaN   \n",
      "2017-10-18 17:00:00        NaN        NaN       NaN         NaN          NaN   \n",
      "\n",
      "                     HL_PCT  PCT_change  label     Forecast  \n",
      "Date                                                         \n",
      "2017-10-14 17:00:00     NaN         NaN    NaN  1339.106975  \n",
      "2017-10-15 17:00:00     NaN         NaN    NaN  1280.736703  \n",
      "2017-10-16 17:00:00     NaN         NaN    NaN  1189.133134  \n",
      "2017-10-17 17:00:00     NaN         NaN    NaN  1290.732222  \n",
      "2017-10-18 17:00:00     NaN         NaN    NaN  1154.374073  \n"
     ]
    },
    {
     "data": {
      "image/png": "[encoded data removed]",
      "text/plain": [
       "<Figure size 432x288 with 1 Axes>"
      ]
     },
     "metadata": {},
     "output_type": "display_data"
    }
   ],
   "source": [
    "df['Forecast'] = np.nan\n",
    "\n",
    "last_date = df.iloc[-1].name\n",
    "last_unix = last_date.timestamp()\n",
    "one_day = 86400\n",
    "next_unix = last_unix + one_day\n",
    "\n",
    "for i in forecast_set:\n",
    "    next_date = datetime.datetime.fromtimestamp(next_unix)\n",
    "    next_unix+=one_day\n",
    "    df.loc[next_date] = [np.nan for _ in range(len(df.columns)-1)] + [i]\n",
    "\n",
    "print(df.tail()) \n",
    "    \n",
    "df['Adj. Close'].plot()\n",
    "df['Forecast'].plot()\n",
    "plt.legend(loc=4)\n",
    "plt.xlabel('Date')\n",
    "plt.ylabel('Price')\n",
    "plt.show()\n"
   ]
  },
  {
   "cell_type": "code",
   "execution_count": 30,
   "metadata": {},
   "outputs": [],
   "source": [
    "# pickling and scaling\n"
   ]
  },
  {
   "cell_type": "code",
   "execution_count": null,
   "metadata": {},
   "outputs": [],
   "source": []
  },
  {
   "cell_type": "code",
   "execution_count": null,
   "metadata": {},
   "outputs": [],
   "source": []
  }
 ],
 "metadata": {
  "kernelspec": {
   "display_name": "Python 3",
   "language": "python",
   "name": "python3"
  },
  "language_info": {
   "codemirror_mode": {
    "name": "ipython",
    "version": 3
   },
   "file_extension": ".py",
   "mimetype": "text/x-python",
   "name": "python",
   "nbconvert_exporter": "python",
   "pygments_lexer": "ipython3",
   "version": "3.6.8"
  }
 },
 "nbformat": 4,
 "nbformat_minor": 2
}
